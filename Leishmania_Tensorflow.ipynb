{
  "nbformat": 4,
  "nbformat_minor": 0,
  "metadata": {
    "colab": {
      "name": "Cópia de Leishmania Tensorflow.ipynb",
      "provenance": [],
      "collapsed_sections": []
    },
    "kernelspec": {
      "name": "python3",
      "display_name": "Python 3"
    },
    "accelerator": "GPU"
  },
  "cells": [
    {
      "cell_type": "code",
      "metadata": {
        "id": "dMS_Qjighoba",
        "colab_type": "code",
        "colab": {}
      },
      "source": [
        "# Atualização das bibliotecas\n",
        "!pip install --upgrade keras tensorflow"
      ],
      "execution_count": null,
      "outputs": []
    },
    {
      "cell_type": "code",
      "metadata": {
        "id": "9e-JTYzAnj0D",
        "colab_type": "code",
        "colab": {}
      },
      "source": [
        "# Download do dataset de Treinamento\n",
        "!gdown https://drive.google.com/uc?id=1xQqTSUA-celn_KRB9Qpx77g54KR0WHaH\n",
        "!unzip Leishmania_Treinamento.zip\n",
        "!rm Leishmania_Treinamento.zip"
      ],
      "execution_count": null,
      "outputs": []
    },
    {
      "cell_type": "code",
      "metadata": {
        "id": "LnSSOFUrLB48",
        "colab_type": "code",
        "colab": {}
      },
      "source": [
        "# Fixando seeds pra ter resultados mais consistentes\n",
        "import numpy as np\n",
        "import tensorflow as tf\n",
        "import random as python_random\n",
        "\n",
        "np.random.seed(0)\n",
        "python_random.seed(0)\n",
        "tf.random.set_seed(0)"
      ],
      "execution_count": 3,
      "outputs": []
    },
    {
      "cell_type": "code",
      "metadata": {
        "id": "V5ReLRW6ExE5",
        "colab_type": "code",
        "colab": {}
      },
      "source": [
        "# Imports\n",
        "from os import listdir\n",
        "from tensorflow.keras.optimizers import Adam\n",
        "from tensorflow.keras.models import Sequential\n",
        "from tensorflow.keras.layers import Dense, Flatten, Dropout\n",
        "from tensorflow.keras.applications import ResNet152V2\n",
        "from tensorflow.keras.preprocessing import image\n",
        "from tensorflow.keras.preprocessing.image import ImageDataGenerator\n",
        "from sklearn.metrics import classification_report, confusion_matrix"
      ],
      "execution_count": 4,
      "outputs": []
    },
    {
      "cell_type": "code",
      "metadata": {
        "id": "bVjwzrQ9FffK",
        "colab_type": "code",
        "colab": {
          "base_uri": "https://localhost:8080/",
          "height": 313
        },
        "outputId": "0a154356-3eea-4da5-a3fc-baff369e37bc"
      },
      "source": [
        "# Inicialização do modelo\n",
        "classificador = Sequential()\n",
        "\n",
        "tamanho_imagem = (256, 256)\n",
        "# Carregamento da arquitetura\n",
        "transfer = ResNet152V2(include_top = False, input_shape = (tamanho_imagem[0], \n",
        "                                                           tamanho_imagem[1], 3))\n",
        "for camada in transfer.layers:\n",
        "  camada.trainable = True\n",
        "\n",
        "classificador.add(transfer)\n",
        "\n",
        "# Saída do modelo\n",
        "classificador.add(Flatten())\n",
        "classificador.add(Dense(1, activation = 'sigmoid'))\n",
        "\n",
        "classificador.compile(optimizer = Adam(learning_rate = 0.00001),\n",
        "               loss = 'binary_crossentropy', metrics = ['accuracy'])\n",
        "\n",
        "batch = 10\n",
        "\n",
        "# Nenhuma forma de Augmentation\n",
        "# Rescale é apenas normalização\n",
        "datagen = ImageDataGenerator(rescale=1./255)\n",
        "\n",
        "\n",
        "grupo_treinamento = datagen.flow_from_directory('Leishmania_Treinamento/treinamento', \n",
        "                                                target_size=tamanho_imagem, \n",
        "                                                batch_size=batch, \n",
        "                                                class_mode='binary')\n",
        "\n",
        "grupo_validacao = datagen.flow_from_directory('Leishmania_Treinamento/validacao', \n",
        "                                              target_size=tamanho_imagem, \n",
        "                                              batch_size=batch, \n",
        "                                              class_mode='binary')\n",
        "\n",
        "classificador.fit(grupo_treinamento, epochs=5, validation_data=grupo_validacao)"
      ],
      "execution_count": 5,
      "outputs": [
        {
          "output_type": "stream",
          "text": [
            "Downloading data from https://storage.googleapis.com/tensorflow/keras-applications/resnet/resnet152v2_weights_tf_dim_ordering_tf_kernels_notop.h5\n",
            "234553344/234545216 [==============================] - 10s 0us/step\n",
            "Found 320 images belonging to 2 classes.\n",
            "Found 80 images belonging to 2 classes.\n",
            "Epoch 1/5\n",
            "32/32 [==============================] - 16s 491ms/step - loss: 0.6984 - accuracy: 0.6781 - val_loss: 0.5915 - val_accuracy: 0.7000\n",
            "Epoch 2/5\n",
            "32/32 [==============================] - 12s 388ms/step - loss: 0.1484 - accuracy: 0.9594 - val_loss: 0.5117 - val_accuracy: 0.7250\n",
            "Epoch 3/5\n",
            "32/32 [==============================] - 12s 378ms/step - loss: 0.0617 - accuracy: 0.9906 - val_loss: 0.3983 - val_accuracy: 0.7250\n",
            "Epoch 4/5\n",
            "32/32 [==============================] - 12s 391ms/step - loss: 0.0454 - accuracy: 0.9906 - val_loss: 0.3736 - val_accuracy: 0.7625\n",
            "Epoch 5/5\n",
            "32/32 [==============================] - 12s 384ms/step - loss: 0.0405 - accuracy: 0.9906 - val_loss: 0.3134 - val_accuracy: 0.8500\n"
          ],
          "name": "stdout"
        },
        {
          "output_type": "execute_result",
          "data": {
            "text/plain": [
              "<tensorflow.python.keras.callbacks.History at 0x7fa10dfee1d0>"
            ]
          },
          "metadata": {
            "tags": []
          },
          "execution_count": 5
        }
      ]
    },
    {
      "cell_type": "code",
      "metadata": {
        "id": "-E89-JZOoAgK",
        "colab_type": "code",
        "colab": {}
      },
      "source": [
        "# Download do dataset de Teste\n",
        "!gdown https://drive.google.com/uc?id=1tTBldPLMQk8jLLDjBaxwbl_FXpYNS0Ux\n",
        "!unzip Leishmania_Teste.zip\n",
        "!rm Leishmania_Teste.zip"
      ],
      "execution_count": null,
      "outputs": []
    },
    {
      "cell_type": "code",
      "metadata": {
        "id": "eQ34F1Ht-P-U",
        "colab_type": "code",
        "colab": {}
      },
      "source": [
        "# Funções\n",
        "\n",
        "# Preprocessamento das imagens\n",
        "def carregar_imagem(arquivo):\n",
        "  img = image.load_img(arquivo, target_size=tamanho_imagem)\n",
        "  img = image.img_to_array(img)\n",
        "  img = np.expand_dims(img, axis = 0)\n",
        "  img = img/255\n",
        "\n",
        "  return img\n",
        "\n",
        "# Carregar imagens em uma lista\n",
        "def predicao_teste(pasta_teste):\n",
        "  imagens = []\n",
        "  for pasta in listdir(pasta_teste):\n",
        "    for arquivo in listdir(pasta_teste + '/' + pasta):\n",
        "      imagens.append(carregar_imagem(pasta_teste + pasta + '/' + arquivo))\n",
        "  \n",
        "  return imagens"
      ],
      "execution_count": 7,
      "outputs": []
    },
    {
      "cell_type": "code",
      "metadata": {
        "id": "kO9JzCO0qxLQ",
        "colab_type": "code",
        "colab": {}
      },
      "source": [
        "imagens = np.vstack(predicao_teste('Leishmania_Teste/'))\n",
        "respostas_modelo = classificador.predict_classes(imagens)\n",
        "respostas_teste = datagen.flow_from_directory('Leishmania_Teste/', \n",
        "                                              target_size=tamanho_imagem, \n",
        "                                              batch_size=batch, \n",
        "                                              class_mode='binary')\n",
        "print('Respostas do modelo\\n' + str(np.concatenate(respostas_modelo)))\n",
        "print('Respostas reais\\n' + str(respostas_teste.classes))\n",
        "\n",
        "# Matriz de confusão\n",
        "matriz_de_confusao = confusion_matrix(respostas_teste.classes, respostas_modelo)\n",
        "\n",
        "# Metricas\n",
        "# Marvin pediu especificamente pra gente avaliar os valores de sensibilidade e\n",
        "# especificidade\n",
        "TrueNegative, FalsePositive, FalseNegative, TruePositive = matriz_de_confusao.ravel()\n",
        "\n",
        "# Precisão\n",
        "print('Precisao ' + str((TruePositive + TrueNegative) / len(respostas_modelo)))\n",
        "\n",
        "# Sensibilidade\n",
        "print('Sensibilidade ' + str(TruePositive / (TruePositive + FalseNegative)))\n",
        "\n",
        "# Especificidade\n",
        "print('Especificidade ' + str(TrueNegative / (FalsePositive + TrueNegative)))"
      ],
      "execution_count": null,
      "outputs": []
    },
    {
      "cell_type": "code",
      "metadata": {
        "id": "DCWq0JxBCwOj",
        "colab_type": "code",
        "colab": {}
      },
      "source": [
        "# Salvar modelo treinado em um arquivo\n",
        "classificador.save('modelo_leishmania.h5')"
      ],
      "execution_count": null,
      "outputs": []
    }
  ]
}