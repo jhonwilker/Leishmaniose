{
  "nbformat": 4,
  "nbformat_minor": 0,
  "metadata": {
    "accelerator": "GPU",
    "colab": {
      "name": "Leishmania VGG19.ipynb",
      "provenance": [],
      "collapsed_sections": []
    },
    "kernelspec": {
      "display_name": "Python 3",
      "name": "python3"
    }
  },
  "cells": [
    {
      "cell_type": "code",
      "metadata": {
        "id": "dMS_Qjighoba"
      },
      "source": [
        "# Atualização das bibliotecas\n",
        "!pip install --upgrade keras tensorflow"
      ],
      "execution_count": null,
      "outputs": []
    },
    {
      "cell_type": "code",
      "metadata": {
        "id": "9e-JTYzAnj0D"
      },
      "source": [
        "# Download do dataset de Treinamento\n",
        "!gdown https://drive.google.com/uc?id=1xQqTSUA-celn_KRB9Qpx77g54KR0WHaH\n",
        "!unzip Leishmania_Treinamento.zip\n",
        "!rm Leishmania_Treinamento.zip"
      ],
      "execution_count": null,
      "outputs": []
    },
    {
      "cell_type": "code",
      "metadata": {
        "id": "LnSSOFUrLB48"
      },
      "source": [
        "# Fixando seeds pra ter resultados mais consistentes\n",
        "import numpy as np\n",
        "import tensorflow as tf\n",
        "import random as python_random\n",
        "\n",
        "np.random.seed(0)\n",
        "python_random.seed(0)\n",
        "tf.random.set_seed(0)"
      ],
      "execution_count": null,
      "outputs": []
    },
    {
      "cell_type": "code",
      "metadata": {
        "id": "V5ReLRW6ExE5"
      },
      "source": [
        "# Imports\n",
        "from os import listdir\n",
        "from tensorflow.keras.optimizers import Adam\n",
        "from tensorflow.keras.models import Sequential\n",
        "from tensorflow.keras.layers import Dense, Flatten, Dropout\n",
        "from tensorflow.keras.applications import VGG19\n",
        "from tensorflow.keras.preprocessing import image\n",
        "from tensorflow.keras.preprocessing.image import ImageDataGenerator\n",
        "from sklearn.metrics import classification_report, confusion_matrix"
      ],
      "execution_count": null,
      "outputs": []
    },
    {
      "cell_type": "code",
      "metadata": {
        "id": "bVjwzrQ9FffK",
        "colab": {
          "base_uri": "https://localhost:8080/"
        },
        "outputId": "aab1b9fa-7a88-41cf-e53a-e48a4e87bf77"
      },
      "source": [
        "# Inicialização do modelo\n",
        "classificador = Sequential()\n",
        "\n",
        "tamanho_imagem = (224, 224)\n",
        "# Carregamento da arquitetura\n",
        "transfer = VGG19(include_top = False,\n",
        "                     input_shape = (tamanho_imagem[0], \n",
        "                                    tamanho_imagem[1], 3))\n",
        "for camada in transfer.layers:\n",
        "  camada.trainable = True\n",
        "\n",
        "classificador.add(transfer)\n",
        "\n",
        "# Saída do modelo\n",
        "classificador.add(Flatten())\n",
        "classificador.add(Dense(1, activation = 'sigmoid'))\n",
        "\n",
        "classificador.compile(optimizer = Adam(lr = 0.000001),\n",
        "               loss = 'binary_crossentropy', metrics = ['accuracy'])\n",
        "\n",
        "batch = 3\n",
        "\n",
        "# Nenhuma forma de Augmentation\n",
        "# Rescale é apenas normalização\n",
        "datagen = ImageDataGenerator(rescale=1./255)\n",
        "\n",
        "\n",
        "grupo_treinamento = datagen.flow_from_directory('Leishmania_Treinamento/treinamento', \n",
        "                                                target_size=tamanho_imagem, \n",
        "                                                batch_size=batch, \n",
        "                                                class_mode='binary')\n",
        "\n",
        "grupo_validacao = datagen.flow_from_directory('Leishmania_Treinamento/validacao', \n",
        "                                              target_size=tamanho_imagem, \n",
        "                                              batch_size=batch, \n",
        "                                              class_mode='binary')\n",
        "\n",
        "classificador.fit(grupo_treinamento, epochs=20, validation_data=grupo_validacao)"
      ],
      "execution_count": null,
      "outputs": [
        {
          "output_type": "stream",
          "text": [
            "Downloading data from https://storage.googleapis.com/tensorflow/keras-applications/vgg19/vgg19_weights_tf_dim_ordering_tf_kernels_notop.h5\n",
            "80142336/80134624 [==============================] - 1s 0us/step\n",
            "Found 400 images belonging to 2 classes.\n",
            "Found 100 images belonging to 2 classes.\n",
            "Epoch 1/20\n",
            "  2/134 [..............................] - ETA: 4s - loss: 0.5920 - accuracy: 0.6667WARNING:tensorflow:Callbacks method `on_train_batch_end` is slow compared to the batch time (batch time: 0.0265s vs `on_train_batch_end` time: 0.0487s). Check your callbacks.\n",
            "134/134 [==============================] - 19s 143ms/step - loss: 0.5804 - accuracy: 0.7450 - val_loss: 0.3998 - val_accuracy: 0.9500\n",
            "Epoch 2/20\n",
            "134/134 [==============================] - 18s 136ms/step - loss: 0.3829 - accuracy: 0.9125 - val_loss: 0.2509 - val_accuracy: 0.9800\n",
            "Epoch 3/20\n",
            "134/134 [==============================] - 18s 138ms/step - loss: 0.2567 - accuracy: 0.9350 - val_loss: 0.1520 - val_accuracy: 1.0000\n",
            "Epoch 4/20\n",
            "134/134 [==============================] - 19s 139ms/step - loss: 0.1743 - accuracy: 0.9700 - val_loss: 0.1023 - val_accuracy: 1.0000\n",
            "Epoch 5/20\n",
            "134/134 [==============================] - 19s 140ms/step - loss: 0.1150 - accuracy: 0.9800 - val_loss: 0.0705 - val_accuracy: 0.9900\n",
            "Epoch 6/20\n",
            "134/134 [==============================] - 19s 139ms/step - loss: 0.0789 - accuracy: 0.9875 - val_loss: 0.0568 - val_accuracy: 0.9900\n",
            "Epoch 7/20\n",
            "134/134 [==============================] - 19s 138ms/step - loss: 0.0512 - accuracy: 0.9925 - val_loss: 0.0387 - val_accuracy: 1.0000\n",
            "Epoch 8/20\n",
            "134/134 [==============================] - 19s 139ms/step - loss: 0.0395 - accuracy: 0.9900 - val_loss: 0.0395 - val_accuracy: 0.9900\n",
            "Epoch 9/20\n",
            "134/134 [==============================] - 19s 139ms/step - loss: 0.0241 - accuracy: 0.9975 - val_loss: 0.0320 - val_accuracy: 1.0000\n",
            "Epoch 10/20\n",
            "134/134 [==============================] - 19s 140ms/step - loss: 0.0166 - accuracy: 0.9975 - val_loss: 0.0266 - val_accuracy: 1.0000\n",
            "Epoch 11/20\n",
            "134/134 [==============================] - 19s 139ms/step - loss: 0.0114 - accuracy: 1.0000 - val_loss: 0.0274 - val_accuracy: 1.0000\n",
            "Epoch 12/20\n",
            "134/134 [==============================] - 19s 139ms/step - loss: 0.0085 - accuracy: 1.0000 - val_loss: 0.0303 - val_accuracy: 0.9900\n",
            "Epoch 13/20\n",
            "134/134 [==============================] - 19s 139ms/step - loss: 0.0064 - accuracy: 1.0000 - val_loss: 0.0204 - val_accuracy: 1.0000\n",
            "Epoch 14/20\n",
            "134/134 [==============================] - 19s 140ms/step - loss: 0.0046 - accuracy: 1.0000 - val_loss: 0.0220 - val_accuracy: 1.0000\n",
            "Epoch 15/20\n",
            "134/134 [==============================] - 19s 140ms/step - loss: 0.0037 - accuracy: 1.0000 - val_loss: 0.0182 - val_accuracy: 1.0000\n",
            "Epoch 16/20\n",
            "134/134 [==============================] - 19s 139ms/step - loss: 0.0028 - accuracy: 1.0000 - val_loss: 0.0165 - val_accuracy: 1.0000\n",
            "Epoch 17/20\n",
            "134/134 [==============================] - 19s 139ms/step - loss: 0.0022 - accuracy: 1.0000 - val_loss: 0.0194 - val_accuracy: 1.0000\n",
            "Epoch 18/20\n",
            "134/134 [==============================] - 19s 140ms/step - loss: 0.0018 - accuracy: 1.0000 - val_loss: 0.0163 - val_accuracy: 1.0000\n",
            "Epoch 19/20\n",
            "134/134 [==============================] - 19s 140ms/step - loss: 0.0014 - accuracy: 1.0000 - val_loss: 0.0146 - val_accuracy: 1.0000\n",
            "Epoch 20/20\n",
            "134/134 [==============================] - 19s 140ms/step - loss: 0.0012 - accuracy: 1.0000 - val_loss: 0.0144 - val_accuracy: 1.0000\n"
          ],
          "name": "stdout"
        },
        {
          "output_type": "execute_result",
          "data": {
            "text/plain": [
              "<tensorflow.python.keras.callbacks.History at 0x7f05fe2a8828>"
            ]
          },
          "metadata": {
            "tags": []
          },
          "execution_count": 7
        }
      ]
    },
    {
      "cell_type": "code",
      "metadata": {
        "id": "-E89-JZOoAgK"
      },
      "source": [
        "# Download do dataset de Teste\n",
        "# !gdown https://drive.google.com/uc?id=1tTBldPLMQk8jLLDjBaxwbl_FXpYNS0Ux\n",
        "# !unzip Leishmania_Teste.zip\n",
        "# !rm Leishmania_Teste.zip\n",
        "!gdown https://drive.google.com/uc?id=1tWm2_xJa0RtwR-iA3kf5K_Z-4Aud-x6F\n",
        "!unzip Leishmania_Teste_dim.zip\n",
        "!rm Leishmania_Teste_dim.zip"
      ],
      "execution_count": null,
      "outputs": []
    },
    {
      "cell_type": "code",
      "metadata": {
        "id": "eQ34F1Ht-P-U"
      },
      "source": [
        "# Funções\n",
        "\n",
        "# Preprocessamento das imagens\n",
        "def carregar_imagem(arquivo):\n",
        "  img = image.load_img(arquivo, target_size=tamanho_imagem)\n",
        "  img = image.img_to_array(img)\n",
        "  img = np.expand_dims(img, axis = 0)\n",
        "  img = img/255\n",
        "\n",
        "  return img\n",
        "\n",
        "# Carregar imagens em uma lista\n",
        "def predicao_teste(pasta_teste):\n",
        "  imagens = []\n",
        "  for pasta in listdir(pasta_teste):\n",
        "    for arquivo in listdir(pasta_teste + '/' + pasta):\n",
        "      imagens.append(carregar_imagem(pasta_teste + pasta + '/' + arquivo))\n",
        "  \n",
        "  return imagens"
      ],
      "execution_count": null,
      "outputs": []
    },
    {
      "cell_type": "code",
      "metadata": {
        "id": "kO9JzCO0qxLQ"
      },
      "source": [
        "imagens = np.vstack(predicao_teste('Leishmania_Teste_diminuido/'))\n",
        "respostas_modelo = classificador.predict_classes(imagens)\n",
        "respostas_teste = datagen.flow_from_directory('Leishmania_Teste_diminuido/', \n",
        "                                              target_size=tamanho_imagem, \n",
        "                                              batch_size=batch, \n",
        "                                              class_mode='binary')\n",
        "print('Respostas do modelo\\n' + str(np.concatenate(respostas_modelo)))\n",
        "print('Respostas reais\\n' + str(respostas_teste.classes))\n",
        "\n",
        "# Matriz de confusão\n",
        "matriz_de_confusao = confusion_matrix(respostas_teste.classes, respostas_modelo)\n",
        "\n",
        "# Metricas\n",
        "TrueNegative, FalsePositive, FalseNegative, TruePositive = matriz_de_confusao.ravel()\n",
        "\n",
        "# Precisão\n",
        "print('Precisao ' + str((TruePositive + TrueNegative) / len(respostas_modelo)))\n",
        "\n",
        "# Sensibilidade\n",
        "print('Sensibilidade ' + str(TruePositive / (TruePositive + FalseNegative)))\n",
        "\n",
        "# Especificidade\n",
        "print('Especificidade ' + str(TrueNegative / (FalsePositive + TrueNegative)))"
      ],
      "execution_count": null,
      "outputs": []
    },
    {
      "cell_type": "code",
      "metadata": {
        "id": "DCWq0JxBCwOj"
      },
      "source": [
        "# Salvar modelo treinado em um arquivo\n",
        "classificador.save('modelo_leishmania.h5')"
      ],
      "execution_count": null,
      "outputs": []
    }
  ]
}