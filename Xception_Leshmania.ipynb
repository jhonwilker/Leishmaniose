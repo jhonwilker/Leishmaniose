{
 "cells": [
  {
   "cell_type": "code",
   "execution_count": 1,
   "metadata": {},
   "outputs": [],
   "source": [
    "# Imports\n",
    "from os import listdir\n",
    "import numpy as np\n",
    "import tensorflow as tf\n",
    "import random as python_random\n",
    "\n",
    "from tensorflow.keras.optimizers import Adam\n",
    "from tensorflow.keras.models import Sequential\n",
    "from tensorflow.keras.layers import Dense, Flatten, Dropout\n",
    "#from tensorflow.keras.applications import ResNet152V2\n",
    "from tensorflow.keras.applications import Xception\n",
    "from tensorflow.keras.preprocessing import image\n",
    "from tensorflow.keras.preprocessing.image import ImageDataGenerator\n",
    "from sklearn.metrics import classification_report, confusion_matrix"
   ]
  },
  {
   "cell_type": "code",
   "execution_count": 12,
   "metadata": {},
   "outputs": [],
   "source": [
    "np.random.seed(0)\n",
    "python_random.seed(0)\n",
    "tf.random.set_seed(0)"
   ]
  },
  {
   "cell_type": "code",
   "execution_count": 3,
   "metadata": {},
   "outputs": [
    {
     "name": "stdout",
     "output_type": "stream",
     "text": [
      "Versão do TensorFlow: 2.3.0\n"
     ]
    }
   ],
   "source": [
    "print(\"Versão do TensorFlow: \"+tf.__version__)"
   ]
  },
  {
   "cell_type": "code",
   "execution_count": 4,
   "metadata": {},
   "outputs": [
    {
     "name": "stdout",
     "output_type": "stream",
     "text": [
      "Default GPU Device: /device:GPU:0\n"
     ]
    }
   ],
   "source": [
    "if tf.test.gpu_device_name():\n",
    "    print('Default GPU Device: {}'.format(tf.test.gpu_device_name()))\n",
    "else:\n",
    "    print(\"Please install GPU version of TF\")"
   ]
  },
  {
   "cell_type": "code",
   "execution_count": 5,
   "metadata": {},
   "outputs": [
    {
     "name": "stdout",
     "output_type": "stream",
     "text": [
      "Leishmania_Tensorflow.ipynb  Leishmania_TreinamentoSemAzul\r\n",
      "Leishmania_Teste\t     README.md\r\n",
      "Leishmania_TesteSemAzul      Xception_Leshmania.ipynb\r\n",
      "Leishmania_Treinamento\t     modelo_leishmania.h5\r\n"
     ]
    }
   ],
   "source": [
    "!ls"
   ]
  },
  {
   "cell_type": "code",
   "execution_count": 6,
   "metadata": {},
   "outputs": [],
   "source": [
    "#import cv2\n",
    "#import os\n",
    "\n",
    "#def filtroRGB(src,r,g,b):\n",
    "#\tif r == 0:\n",
    "#\t\tsrc[:,:,2] = 0    #elimina o vermelho\n",
    "#\tif g == 0:\n",
    "#\t\tsrc[:,:,1] = 0    #elimina o verde\n",
    "#\tif b == 0:\n",
    "#\t\tsrc[:,:,0] = 0    #elimina o azul\n",
    "\n",
    "#def getImages():\n",
    "#\tcaminhos = [os.path.join(\"Leishmania_Treinamento/validacao/Negativo\", f) for f in os.listdir(\"Leishmania_Treinamento/validacao/Negativo\")]\n",
    "#\timages =[]\n",
    "#\ti=1\n",
    "#\tfor caminhoImagem in caminhos:\n",
    "#\t\timagemCarregada = cv2.imread(caminhoImagem)\n",
    "#\t\tfiltroRGB(imagemCarregada,1,1,0)\n",
    "#\t\t#cv2.imshow(str(i)+\".jpg\",imagemCarregada)\n",
    "#\t\tcv2.imwrite(\"Leishmania_TreinamentoSemAzul/validacao/Negativo/\" + str(i) + \".jpg\",imagemCarregada)\n",
    "#\t\tprint(str(i) + \".jpg\")\n",
    "#\t\ti=i+1\n",
    "#\t\tcv2.waitKey(10)\n",
    "\n",
    "#getImages()"
   ]
  },
  {
   "cell_type": "code",
   "execution_count": 13,
   "metadata": {},
   "outputs": [
    {
     "name": "stdout",
     "output_type": "stream",
     "text": [
      "Found 320 images belonging to 2 classes.\n",
      "Found 80 images belonging to 2 classes.\n"
     ]
    }
   ],
   "source": [
    "# Inicialização do modelo\n",
    "classificador = Sequential()\n",
    "\n",
    "tamanho_imagem = (224, 224)\n",
    "# Carregamento da arquitetura\n",
    "transfer = Xception(include_top = False, input_shape = (tamanho_imagem[0],tamanho_imagem[1],3),classifier_activation=\"softmax\")\n",
    "\n",
    "for camada in transfer.layers:\n",
    "  camada.trainable = True\n",
    "\n",
    "classificador.add(transfer)\n",
    "\n",
    "# Saída do modelo\n",
    "classificador.add(Flatten())\n",
    "classificador.add(Dense(1, activation = 'sigmoid'))\n",
    "\n",
    "classificador.compile(optimizer = Adam(learning_rate = 0.00001),\n",
    "               loss = 'binary_crossentropy', metrics = ['accuracy'])\n",
    "\n",
    "batch = 3\n",
    "\n",
    "# Nenhuma forma de Augmentation\n",
    "# Rescale é apenas normalização\n",
    "datagen = ImageDataGenerator(rescale=1./255)\n",
    "\n",
    "\n",
    "\n",
    "grupo_treinamento = datagen.flow_from_directory('Leishmania_TreinamentoSemAzul/treinamento', \n",
    "                                                target_size=tamanho_imagem, \n",
    "                                                batch_size=batch, \n",
    "                                                class_mode='binary')\n",
    "\n",
    "grupo_validacao = datagen.flow_from_directory('Leishmania_TreinamentoSemAzul/validacao', \n",
    "                                              target_size=tamanho_imagem, \n",
    "                                              batch_size=batch, \n",
    "                                              class_mode='binary')\n",
    "\n",
    "\n"
   ]
  },
  {
   "cell_type": "code",
   "execution_count": 14,
   "metadata": {},
   "outputs": [
    {
     "name": "stdout",
     "output_type": "stream",
     "text": [
      "Epoch 1/15\n",
      "107/107 [==============================] - 18s 171ms/step - loss: 0.6409 - accuracy: 0.6219 - val_loss: 0.4940 - val_accuracy: 0.8000\n",
      "Epoch 2/15\n",
      "107/107 [==============================] - 18s 171ms/step - loss: 0.4007 - accuracy: 0.8500 - val_loss: 0.3458 - val_accuracy: 0.8625\n",
      "Epoch 3/15\n",
      "107/107 [==============================] - 18s 165ms/step - loss: 0.2573 - accuracy: 0.9156 - val_loss: 0.3184 - val_accuracy: 0.8375\n",
      "Epoch 4/15\n",
      "107/107 [==============================] - 21s 192ms/step - loss: 0.1574 - accuracy: 0.9594 - val_loss: 0.1519 - val_accuracy: 0.9375\n",
      "Epoch 5/15\n",
      "107/107 [==============================] - 26s 246ms/step - loss: 0.0930 - accuracy: 0.9812 - val_loss: 0.1533 - val_accuracy: 0.9375\n",
      "Epoch 6/15\n",
      "107/107 [==============================] - 27s 251ms/step - loss: 0.0727 - accuracy: 0.9719 - val_loss: 0.0971 - val_accuracy: 0.9625\n",
      "Epoch 7/15\n",
      "107/107 [==============================] - 18s 164ms/step - loss: 0.0467 - accuracy: 0.9844 - val_loss: 0.0624 - val_accuracy: 0.9875\n",
      "Epoch 8/15\n",
      "107/107 [==============================] - 17s 162ms/step - loss: 0.0318 - accuracy: 0.9937 - val_loss: 0.0683 - val_accuracy: 1.0000\n",
      "Epoch 9/15\n",
      "107/107 [==============================] - 18s 167ms/step - loss: 0.0148 - accuracy: 0.9969 - val_loss: 0.0791 - val_accuracy: 0.9625\n",
      "Epoch 10/15\n",
      "107/107 [==============================] - 18s 168ms/step - loss: 0.0141 - accuracy: 1.0000 - val_loss: 0.0714 - val_accuracy: 0.9750\n",
      "Epoch 11/15\n",
      "107/107 [==============================] - 18s 168ms/step - loss: 0.0100 - accuracy: 1.0000 - val_loss: 0.0743 - val_accuracy: 0.9750\n",
      "Epoch 12/15\n",
      "107/107 [==============================] - 19s 174ms/step - loss: 0.0072 - accuracy: 1.0000 - val_loss: 0.0429 - val_accuracy: 1.0000\n",
      "Epoch 13/15\n",
      "107/107 [==============================] - 18s 172ms/step - loss: 0.0053 - accuracy: 1.0000 - val_loss: 0.0591 - val_accuracy: 0.9750\n",
      "Epoch 14/15\n",
      "107/107 [==============================] - 19s 175ms/step - loss: 0.0030 - accuracy: 1.0000 - val_loss: 0.0409 - val_accuracy: 1.0000\n",
      "Epoch 15/15\n",
      "107/107 [==============================] - 19s 173ms/step - loss: 0.0041 - accuracy: 1.0000 - val_loss: 0.0308 - val_accuracy: 1.0000\n"
     ]
    },
    {
     "data": {
      "text/plain": [
       "<tensorflow.python.keras.callbacks.History at 0x7fd7c73f2c18>"
      ]
     },
     "execution_count": 14,
     "metadata": {},
     "output_type": "execute_result"
    }
   ],
   "source": [
    "classificador.fit(grupo_treinamento, epochs=15, validation_data=grupo_validacao)"
   ]
  },
  {
   "cell_type": "code",
   "execution_count": 15,
   "metadata": {},
   "outputs": [],
   "source": [
    "# Funções\n",
    "\n",
    "# Preprocessamento das imagens\n",
    "def carregar_imagem(arquivo):\n",
    "  img = image.load_img(arquivo, target_size=tamanho_imagem)\n",
    "  img = image.img_to_array(img)\n",
    "  img = np.expand_dims(img, axis = 0)\n",
    "  img = img/255\n",
    "\n",
    "  return img\n",
    "\n",
    "# Carregar imagens em uma lista\n",
    "def predicao_teste(pasta_teste):\n",
    "  imagens = []\n",
    "  for pasta in list(reversed(listdir(pasta_teste))):\n",
    "    for arquivo in listdir(pasta_teste + '/' + pasta):\n",
    "      imagens.append(carregar_imagem(pasta_teste + pasta + '/' + arquivo))\n",
    "  \n",
    "  return imagens"
   ]
  },
  {
   "cell_type": "code",
   "execution_count": 16,
   "metadata": {},
   "outputs": [
    {
     "name": "stdout",
     "output_type": "stream",
     "text": [
      "Found 44 images belonging to 2 classes.\n",
      "Respostas do modelo\n",
      "[0 0 0 1 0 0 0 0 0 0 0 0 0 0 0 0 0 0 0 0 0 0 0 1 1 0 1 1 1 1 1 1 0 1 1 0 0\n",
      " 1 1 0 0 1 1 0]\n",
      "Respostas reais\n",
      "[0 0 0 0 0 0 0 0 0 0 0 0 0 0 0 0 0 0 0 0 0 0 1 1 1 1 1 1 1 1 1 1 1 1 1 1 1\n",
      " 1 1 1 1 1 1 1]\n",
      "Precisao 0.7954545454545454\n",
      "Sensibilidade 0.6363636363636364\n",
      "Especificidade 0.9545454545454546\n"
     ]
    }
   ],
   "source": [
    "imagens = np.vstack(predicao_teste('Leishmania_TesteSemAzul/'))\n",
    "respostas_modelo = classificador.predict_classes(imagens)\n",
    "respostas_teste = datagen.flow_from_directory('Leishmania_TesteSemAzul/', \n",
    "                                              target_size=tamanho_imagem, \n",
    "                                              batch_size=batch, \n",
    "                                              class_mode='binary')\n",
    "print('Respostas do modelo\\n' + str(np.concatenate(respostas_modelo)))\n",
    "print('Respostas reais\\n' + str(respostas_teste.classes))\n",
    "\n",
    "# Matriz de confusão\n",
    "matriz_de_confusao = confusion_matrix(respostas_teste.classes, respostas_modelo)\n",
    "\n",
    "# Metricas\n",
    "# Marvin pediu especificamente pra gente avaliar os valores de sensibilidade e\n",
    "# especificidade\n",
    "TrueNegative, FalsePositive, FalseNegative, TruePositive = matriz_de_confusao.ravel()\n",
    "\n",
    "# Precisão\n",
    "print('Precisao ' + str((TruePositive + TrueNegative) / len(respostas_modelo)))\n",
    "\n",
    "# Sensibilidade\n",
    "print('Sensibilidade ' + str(TruePositive / (TruePositive + FalseNegative)))\n",
    "\n",
    "# Especificidade\n",
    "print('Especificidade ' + str(TrueNegative / (FalsePositive + TrueNegative)))"
   ]
  },
  {
   "cell_type": "code",
   "execution_count": null,
   "metadata": {},
   "outputs": [],
   "source": []
  }
 ],
 "metadata": {
  "kernelspec": {
   "display_name": "Python 3",
   "language": "python",
   "name": "python3"
  },
  "language_info": {
   "codemirror_mode": {
    "name": "ipython",
    "version": 3
   },
   "file_extension": ".py",
   "mimetype": "text/x-python",
   "name": "python",
   "nbconvert_exporter": "python",
   "pygments_lexer": "ipython3",
   "version": "3.6.9"
  }
 },
 "nbformat": 4,
 "nbformat_minor": 4
}
