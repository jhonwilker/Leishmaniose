{
  "nbformat": 4,
  "nbformat_minor": 0,
  "metadata": {
    "colab": {
      "name": "Leishmania ResNet.ipynb",
      "provenance": [],
      "collapsed_sections": []
    },
    "kernelspec": {
      "name": "python3",
      "display_name": "Python 3"
    },
    "accelerator": "GPU"
  },
  "cells": [
    {
      "cell_type": "code",
      "metadata": {
        "id": "dMS_Qjighoba"
      },
      "source": [
        "# Atualização das bibliotecas\n",
        "!pip install --upgrade keras tensorflow"
      ],
      "execution_count": null,
      "outputs": []
    },
    {
      "cell_type": "code",
      "metadata": {
        "id": "9e-JTYzAnj0D"
      },
      "source": [
        "# Download do dataset de Treinamento\n",
        "!gdown https://drive.google.com/uc?id=1xQqTSUA-celn_KRB9Qpx77g54KR0WHaH\n",
        "!unzip Leishmania_Treinamento.zip\n",
        "!rm Leishmania_Treinamento.zip"
      ],
      "execution_count": null,
      "outputs": []
    },
    {
      "cell_type": "code",
      "metadata": {
        "id": "LnSSOFUrLB48"
      },
      "source": [
        "# Fixando seeds pra ter resultados mais consistentes\n",
        "import numpy as np\n",
        "import tensorflow as tf\n",
        "import random as python_random\n",
        "\n",
        "np.random.seed(0)\n",
        "python_random.seed(0)\n",
        "tf.random.set_seed(0)"
      ],
      "execution_count": null,
      "outputs": []
    },
    {
      "cell_type": "code",
      "metadata": {
        "id": "V5ReLRW6ExE5"
      },
      "source": [
        "# Imports\n",
        "from os import listdir\n",
        "from tensorflow.keras.optimizers import RMSprop\n",
        "from tensorflow.keras.models import Sequential\n",
        "from tensorflow.keras.layers import Dense, Flatten, Dropout\n",
        "from tensorflow.keras.applications import ResNet152\n",
        "from tensorflow.keras.preprocessing import image\n",
        "from tensorflow.keras.preprocessing.image import ImageDataGenerator\n",
        "from sklearn.metrics import classification_report, confusion_matrix"
      ],
      "execution_count": null,
      "outputs": []
    },
    {
      "cell_type": "code",
      "metadata": {
        "id": "bVjwzrQ9FffK",
        "colab": {
          "base_uri": "https://localhost:8080/",
          "height": 623
        },
        "outputId": "509c445c-9cd8-4287-87d7-22d3605b3bd5"
      },
      "source": [
        "# Inicialização do modelo\n",
        "classificador = Sequential()\n",
        "\n",
        "tamanho_imagem = (224, 224)\n",
        "# Carregamento da arquitetura\n",
        "transfer = ResNet152(include_top = False,\n",
        "                     input_shape = (tamanho_imagem[0], \n",
        "                                    tamanho_imagem[1], 3))\n",
        "for camada in transfer.layers:\n",
        "  camada.trainable = True\n",
        "\n",
        "classificador.add(transfer)\n",
        "\n",
        "# Saída do modelo\n",
        "classificador.add(Flatten())\n",
        "classificador.add(Dense(1, activation = 'sigmoid'))\n",
        "\n",
        "classificador.compile(optimizer = RMSprop(lr = 0.00004),\n",
        "               loss = 'binary_crossentropy', metrics = ['accuracy'])\n",
        "\n",
        "batch = 3\n",
        "\n",
        "# Nenhuma forma de Augmentation\n",
        "# Rescale é apenas normalização\n",
        "datagen = ImageDataGenerator(rescale=1./255)\n",
        "\n",
        "\n",
        "grupo_treinamento = datagen.flow_from_directory('Leishmania_Treinamento/treinamento', \n",
        "                                                target_size=tamanho_imagem, \n",
        "                                                batch_size=batch, \n",
        "                                                class_mode='binary')\n",
        "\n",
        "grupo_validacao = datagen.flow_from_directory('Leishmania_Treinamento/validacao', \n",
        "                                              target_size=tamanho_imagem, \n",
        "                                              batch_size=batch, \n",
        "                                              class_mode='binary')\n",
        "\n",
        "classificador.fit(grupo_treinamento, epochs=15, validation_data=grupo_validacao)"
      ],
      "execution_count": null,
      "outputs": [
        {
          "output_type": "stream",
          "text": [
            "Found 400 images belonging to 2 classes.\n",
            "Found 100 images belonging to 2 classes.\n",
            "Epoch 1/15\n",
            "134/134 [==============================] - 30s 223ms/step - loss: 0.2783 - accuracy: 0.8875 - val_loss: 72.5824 - val_accuracy: 0.5000\n",
            "Epoch 2/15\n",
            "134/134 [==============================] - 28s 208ms/step - loss: 0.0880 - accuracy: 0.9675 - val_loss: 380.2211 - val_accuracy: 0.5000\n",
            "Epoch 3/15\n",
            "134/134 [==============================] - 27s 205ms/step - loss: 0.0275 - accuracy: 0.9850 - val_loss: 359.8334 - val_accuracy: 0.5000\n",
            "Epoch 4/15\n",
            "134/134 [==============================] - 27s 205ms/step - loss: 0.0023 - accuracy: 0.9975 - val_loss: 278.0437 - val_accuracy: 0.5000\n",
            "Epoch 5/15\n",
            "134/134 [==============================] - 28s 205ms/step - loss: 0.0040 - accuracy: 0.9975 - val_loss: 237.8790 - val_accuracy: 0.5000\n",
            "Epoch 6/15\n",
            "134/134 [==============================] - 28s 206ms/step - loss: 2.0318e-05 - accuracy: 1.0000 - val_loss: 133.0392 - val_accuracy: 0.5000\n",
            "Epoch 7/15\n",
            "134/134 [==============================] - 28s 206ms/step - loss: 6.0378e-05 - accuracy: 1.0000 - val_loss: 36.8087 - val_accuracy: 0.6900\n",
            "Epoch 8/15\n",
            "134/134 [==============================] - 28s 209ms/step - loss: 0.0012 - accuracy: 1.0000 - val_loss: 10.6653 - val_accuracy: 0.8600\n",
            "Epoch 9/15\n",
            "134/134 [==============================] - 27s 205ms/step - loss: 1.1184e-05 - accuracy: 1.0000 - val_loss: 3.0067 - val_accuracy: 0.9600\n",
            "Epoch 10/15\n",
            "134/134 [==============================] - 27s 204ms/step - loss: 6.7971e-04 - accuracy: 1.0000 - val_loss: 1.0729 - val_accuracy: 0.9600\n",
            "Epoch 11/15\n",
            "134/134 [==============================] - 28s 205ms/step - loss: 1.5383e-07 - accuracy: 1.0000 - val_loss: 1.7910 - val_accuracy: 0.9600\n",
            "Epoch 12/15\n",
            "134/134 [==============================] - 28s 206ms/step - loss: 1.7829e-08 - accuracy: 1.0000 - val_loss: 1.2480 - val_accuracy: 0.9800\n",
            "Epoch 13/15\n",
            "134/134 [==============================] - 27s 205ms/step - loss: 3.6020e-08 - accuracy: 1.0000 - val_loss: 1.7752 - val_accuracy: 0.9800\n",
            "Epoch 14/15\n",
            "134/134 [==============================] - 28s 208ms/step - loss: 4.1047e-06 - accuracy: 1.0000 - val_loss: 1.1196 - val_accuracy: 0.9800\n",
            "Epoch 15/15\n",
            "134/134 [==============================] - 27s 204ms/step - loss: 8.6884e-08 - accuracy: 1.0000 - val_loss: 1.4017 - val_accuracy: 0.9800\n"
          ],
          "name": "stdout"
        },
        {
          "output_type": "execute_result",
          "data": {
            "text/plain": [
              "<tensorflow.python.keras.callbacks.History at 0x7f5b2036d2e8>"
            ]
          },
          "metadata": {
            "tags": []
          },
          "execution_count": 12
        }
      ]
    },
    {
      "cell_type": "code",
      "metadata": {
        "id": "-E89-JZOoAgK"
      },
      "source": [
        "# Download do dataset de Teste\n",
        "!gdown https://drive.google.com/uc?id=1tTBldPLMQk8jLLDjBaxwbl_FXpYNS0Ux\n",
        "!unzip Leishmania_Teste.zip\n",
        "!rm Leishmania_Teste.zip"
      ],
      "execution_count": null,
      "outputs": []
    },
    {
      "cell_type": "code",
      "metadata": {
        "id": "eQ34F1Ht-P-U"
      },
      "source": [
        "# Funções\n",
        "\n",
        "# Preprocessamento das imagens\n",
        "def carregar_imagem(arquivo):\n",
        "  img = image.load_img(arquivo, target_size=tamanho_imagem)\n",
        "  img = image.img_to_array(img)\n",
        "  img = np.expand_dims(img, axis = 0)\n",
        "  img = img/255\n",
        "\n",
        "  return img\n",
        "\n",
        "# Carregar imagens em uma lista\n",
        "def predicao_teste(pasta_teste):\n",
        "  imagens = []\n",
        "  for pasta in list(reversed(listdir(pasta_teste))):\n",
        "    for arquivo in listdir(pasta_teste + '/' + pasta):\n",
        "      imagens.append(carregar_imagem(pasta_teste + pasta + '/' + arquivo))\n",
        "  \n",
        "  return imagens"
      ],
      "execution_count": null,
      "outputs": []
    },
    {
      "cell_type": "code",
      "metadata": {
        "id": "kO9JzCO0qxLQ"
      },
      "source": [
        "imagens = np.vstack(predicao_teste('Leishmania_Teste/'))\n",
        "respostas_modelo = classificador.predict_classes(imagens)\n",
        "respostas_teste = datagen.flow_from_directory('Leishmania_Teste/', \n",
        "                                              target_size=tamanho_imagem, \n",
        "                                              batch_size=batch, \n",
        "                                              class_mode='binary')\n",
        "print('Respostas do modelo\\n' + str(np.concatenate(respostas_modelo)))\n",
        "print('Respostas reais\\n' + str(respostas_teste.classes))\n",
        "\n",
        "# Matriz de confusão\n",
        "matriz_de_confusao = confusion_matrix(respostas_teste.classes, respostas_modelo)\n",
        "\n",
        "# Metricas\n",
        "TrueNegative, FalsePositive, FalseNegative, TruePositive = matriz_de_confusao.ravel()\n",
        "\n",
        "# Precisão\n",
        "print('Precisao ' + str((TruePositive + TrueNegative) / len(respostas_modelo)))\n",
        "\n",
        "# Sensibilidade\n",
        "print('Sensibilidade ' + str(TruePositive / (TruePositive + FalseNegative)))\n",
        "\n",
        "# Especificidade\n",
        "print('Especificidade ' + str(TrueNegative / (FalsePositive + TrueNegative)))"
      ],
      "execution_count": null,
      "outputs": []
    },
    {
      "cell_type": "code",
      "metadata": {
        "id": "DCWq0JxBCwOj"
      },
      "source": [
        "# Salvar modelo treinado em um arquivo\n",
        "classificador.save('modelo_leishmania.h5')"
      ],
      "execution_count": null,
      "outputs": []
    }
  ]
}